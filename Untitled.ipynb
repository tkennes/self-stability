{
 "cells": [
  {
   "cell_type": "markdown",
   "id": "b5d4f736",
   "metadata": {},
   "source": [
    "# Self-Stability Simulation\n",
    "\n",
    "This notebook displays the simulation corresponding to blogpost <insert-here>NAME</insert-here>, which is also where you can find more information and context.\n",
    "<br>\n",
    "<br>\n",
    "\n",
    "\n",
    "## How does this simulation work\n",
    "This notebook implements a Markov Chain Monte Carlo simulation. For this, it is important to define states and transitions. In this case, we view states as the allocation of nodes and workloads over AZs and a queue. \n"
   ]
  },
  {
   "cell_type": "markdown",
   "id": "08bc9328",
   "metadata": {},
   "source": [
    "## Generic Imports\n",
    "\n",
    "Note that we make use of the SSTA (Self-Stability) package defined deeper in this repository. Most of the actual logic is located there."
   ]
  },
  {
   "cell_type": "code",
   "execution_count": 1,
   "id": "8e849dc1",
   "metadata": {},
   "outputs": [],
   "source": [
    "import copy\n",
    "import errno\n",
    "import json\n",
    "import matplotlib.pyplot as plt\n",
    "import os\n",
    "import pandas as pd\n",
    "import seaborn as sns\n",
    "import shutil\n",
    "\n",
    "from tqdm import tqdm\n",
    "\n",
    "from SSTA.components import State\n",
    "from SSTA import iteration"
   ]
  },
  {
   "cell_type": "markdown",
   "id": "018b8cf0",
   "metadata": {},
   "source": [
    "## Create a couple simple functions, useful for exporting jsons!\n",
    "\n",
    "Simple, just necessary for exporting simulation results later on. Note that these exports are disabled by default"
   ]
  },
  {
   "cell_type": "code",
   "execution_count": 2,
   "id": "420f7df1",
   "metadata": {},
   "outputs": [],
   "source": [
    "def rm_dir_p(dir):\n",
    "    try:\n",
    "        shutil.rmtree(dir)\n",
    "    except FileNotFoundError:\n",
    "        print(\"Folder does not exist\")\n",
    "\n",
    "def mkdir_p(path):\n",
    "    try:\n",
    "        os.makedirs(path)\n",
    "    except OSError as exc:  # Python ≥ 2.5\n",
    "        if exc.errno == errno.EEXIST and os.path.isdir(path):\n",
    "            pass\n",
    "        # possibly handle other errno cases here, otherwise finally:\n",
    "        else:\n",
    "            raise"
   ]
  },
  {
   "cell_type": "markdown",
   "id": "c93e0b50",
   "metadata": {},
   "source": [
    "## Parametrization\n",
    "\n",
    "This is where you can tweak and run different simulations, whatever you want!"
   ]
  },
  {
   "cell_type": "code",
   "execution_count": 3,
   "id": "1ab37675",
   "metadata": {},
   "outputs": [],
   "source": [
    "# Initialization\n",
    "AZs = ['AZ-1', 'AZ-2', 'AZ-3']\n",
    "WORKLOAD_TYPES = ['A', 'B', 'C']\n",
    "MAX_NUMBER_OF_NODES = 15\n",
    "INITIAL_NODE_ALLCATION_PER_AZ = [5, 5, 5]\n",
    "INITIAL_WORKLOAD_TYPE_PER_AZ = [\n",
    "    {'type': 'A', 'AZ': AZs[0], 'count': 3},\n",
    "    {'type': 'A', 'AZ': AZs[1], 'count': 3},\n",
    "    {'type': 'A', 'AZ': AZs[2], 'count': 3},\n",
    "    {'type': 'B', 'AZ': AZs[0], 'count': 1},\n",
    "    {'type': 'B', 'AZ': AZs[1], 'count': 1},\n",
    "    {'type': 'B', 'AZ': AZs[2], 'count': 1},\n",
    "    {'type': 'C', 'AZ': AZs[0], 'count': 1},\n",
    "    {'type': 'C', 'AZ': AZs[1], 'count': 1},\n",
    "    {'type': 'C', 'AZ': AZs[2], 'count': 1}\n",
    "]\n",
    "TARGET_WORKLOAD_NODE_ALLOCATION = [\n",
    "    {'type': 'A', 'AZ': AZs[0], 'count': 3},\n",
    "    {'type': 'A', 'AZ': AZs[1], 'count': 3},\n",
    "    {'type': 'A', 'AZ': AZs[2], 'count': 3},\n",
    "    {'type': 'B', 'AZ': AZs[0], 'count': 1},\n",
    "    {'type': 'B', 'AZ': AZs[1], 'count': 1},\n",
    "    {'type': 'B', 'AZ': AZs[2], 'count': 0},\n",
    "    {'type': 'C', 'AZ': AZs[0], 'count': 1},\n",
    "    {'type': 'C', 'AZ': AZs[1], 'count': 1},\n",
    "    {'type': 'C', 'AZ': AZs[2], 'count': 0}\n",
    "]"
   ]
  },
  {
   "cell_type": "markdown",
   "id": "0c9f6c55",
   "metadata": {},
   "source": [
    "## Simulation"
   ]
  },
  {
   "cell_type": "code",
   "execution_count": null,
   "id": "a6df84d8",
   "metadata": {},
   "outputs": [
    {
     "name": "stderr",
     "output_type": "stream",
     "text": [
      "  7%|▋         | 6577/100000 [09:27<2:19:23, 11.17it/s]"
     ]
    }
   ],
   "source": [
    "N_monte_carlo = 100\n",
    "N_simulations = 100000\n",
    "\n",
    "main_folder = './simulations'\n",
    "do_export_iterations = True\n",
    "if do_export_iterations:\n",
    "    rm_dir_p(main_folder)\n",
    "\n",
    "results = []\n",
    "initial_state = State(\n",
    "    AZs=AZs,\n",
    "    INITIAL_NODE_ALLCATION_PER_AZ=INITIAL_NODE_ALLCATION_PER_AZ,\n",
    "    INITIAL_WORKLOAD_TYPE_PER_AZ=INITIAL_WORKLOAD_TYPE_PER_AZ,\n",
    "    MAX_NUMBER_OF_NODES=MAX_NUMBER_OF_NODES\n",
    ")\n",
    "\n",
    "for j in tqdm(range(N_simulations)):\n",
    "    finish = False\n",
    "    if do_export_iterations:\n",
    "        mkdir_p(main_folder + '/simulation-{}'.format(j))\n",
    "\n",
    "    for i in range(N_monte_carlo):\n",
    "        if i == 0:\n",
    "            state = copy.deepcopy(initial_state)\n",
    "\n",
    "        state, done = iteration(\n",
    "            state=state,\n",
    "            TARGET_WORKLOAD_NODE_ALLOCATION=TARGET_WORKLOAD_NODE_ALLOCATION,\n",
    "            MAX_NUMBER_OF_NODES=MAX_NUMBER_OF_NODES,\n",
    "            iteration_number=i\n",
    "        )\n",
    "\n",
    "        if do_export_iterations:\n",
    "            with open('./simulations/simulation-{}/iteration-{}.json'.format(j, i), 'w') as f:\n",
    "                json.dump(initial_state.toJSON(), f)\n",
    "\n",
    "        if done:\n",
    "            results += [{'iteration': j, 'Steps': i, 'nodes': state.count_nodes(), 'time': state.time}]\n",
    "            finish = True\n",
    "            break\n",
    "\n",
    "    if not finish:\n",
    "        results += [{'iteration': j, 'Steps': None, 'nodes': state.count_nodes(), 'time': state.time}]"
   ]
  },
  {
   "cell_type": "markdown",
   "id": "948e5d1f",
   "metadata": {},
   "source": [
    "## Reporting"
   ]
  },
  {
   "cell_type": "code",
   "execution_count": 6,
   "id": "e63f3f26",
   "metadata": {},
   "outputs": [
    {
     "data": {
      "text/plain": [
       "[{'iteration': 0, 'Steps': 3, 'nodes': 13, 'time': 360},\n",
       " {'iteration': 1, 'Steps': 51, 'nodes': 13, 'time': 36360},\n",
       " {'iteration': 2, 'Steps': 2, 'nodes': 13, 'time': 360},\n",
       " {'iteration': 3, 'Steps': 5, 'nodes': 13, 'time': 1860},\n",
       " {'iteration': 4, 'Steps': 7, 'nodes': 13, 'time': 3360},\n",
       " {'iteration': 5, 'Steps': 41, 'nodes': 13, 'time': 28860},\n",
       " {'iteration': 6, 'Steps': 16, 'nodes': 13, 'time': 10110},\n",
       " {'iteration': 7, 'Steps': 88, 'nodes': 13, 'time': 64110},\n",
       " {'iteration': 8, 'Steps': 16, 'nodes': 13, 'time': 10110},\n",
       " {'iteration': 9, 'Steps': 4, 'nodes': 13, 'time': 1110}]"
      ]
     },
     "execution_count": 6,
     "metadata": {},
     "output_type": "execute_result"
    }
   ],
   "source": [
    "results"
   ]
  },
  {
   "cell_type": "code",
   "execution_count": 5,
   "id": "5d472c59",
   "metadata": {},
   "outputs": [],
   "source": [
    "pd.DataFrame(results).to_csv('results.csv')"
   ]
  },
  {
   "cell_type": "code",
   "execution_count": 13,
   "id": "5dc2646d",
   "metadata": {},
   "outputs": [
    {
     "name": "stderr",
     "output_type": "stream",
     "text": [
      "/Library/Frameworks/Python.framework/Versions/3.9/lib/python3.9/site-packages/seaborn/distributions.py:2551: FutureWarning: `distplot` is a deprecated function and will be removed in a future version. Please adapt your code to use either `displot` (a figure-level function with similar flexibility) or `histplot` (an axes-level function for histograms).\n",
      "  warnings.warn(msg, FutureWarning)\n"
     ]
    },
    {
     "data": {
      "text/plain": [
       "(0.0, 100.0)"
      ]
     },
     "execution_count": 13,
     "metadata": {},
     "output_type": "execute_result"
    },
    {
     "data": {
      "image/png": "[encoded data removed]",
      "text/plain": [
       "<Figure size 432x288 with 1 Axes>"
      ]
     },
     "metadata": {},
     "output_type": "display_data"
    }
   ],
   "source": [
    "df = pd.DataFrame(results)\n",
    "sns.set(color_codes=True)\n",
    "sns.set(style=\"white\", palette=\"muted\")\n",
    "sns.distplot(df['Steps'], bins=N_monte_carlo, hist_kws={'range': (0, min(N_monte_carlo, max(df['Steps'])*1.1))})\n",
    "\n",
    "plt.xlim(0, N_monte_carlo)"
   ]
  }
 ],
 "metadata": {
  "kernelspec": {
   "display_name": "Python 3",
   "language": "python",
   "name": "python3"
  },
  "language_info": {
   "codemirror_mode": {
    "name": "ipython",
    "version": 3
   },
   "file_extension": ".py",
   "mimetype": "text/x-python",
   "name": "python",
   "nbconvert_exporter": "python",
   "pygments_lexer": "ipython3",
   "version": "3.9.1"
  }
 },
 "nbformat": 4,
 "nbformat_minor": 5
}
